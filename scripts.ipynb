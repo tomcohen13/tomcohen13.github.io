{
 "cells": [
  {
   "cell_type": "code",
   "execution_count": 4,
   "metadata": {},
   "outputs": [],
   "source": [
    "import json\n",
    "\n",
    "\"Thank you bored guy from internet:\"\n",
    "num2words = {1: 'One', 2: 'Two', 3: 'Three', 4: 'Four', 5: 'Five', \\\n",
    "             6: 'Six', 7: 'Seven', 8: 'Eight', 9: 'Nine', 10: 'Ten', \\\n",
    "            11: 'Eleven', 12: 'Twelve', 13: 'Thirteen', 14: 'Fourteen', \\\n",
    "            15: 'Fifteen', 16: 'Sixteen', 17: 'Seventeen', 18: 'Eighteen', \\\n",
    "            19: 'Nineteen', 20: 'Twenty', 30: 'Thirty', 40: 'Forty', \\\n",
    "            50: 'Fifty', 60: 'Sixty', 70: 'Seventy', 80: 'Eighty', \\\n",
    "            90: 'Ninety', 0: 'Zero'}"
   ]
  },
  {
   "cell_type": "code",
   "execution_count": 15,
   "metadata": {},
   "outputs": [],
   "source": [
    "\n",
    "def fix_accordion_item(serial_num : int, dates : str, title : str, body : str) -> str:\n",
    "    pattern = \"\"\"\n",
    "    <li class=\"timeline-item accordion-item\">\n",
    "        <div class=\"timeline-info\">\n",
    "            <span>[DATES]</span>\n",
    "        </div>\n",
    "        <div class=\"timeline-marker\"> </div>\n",
    "        <h3 class=\"timeline-title accordion-header\" id=\"flush-heading[NUM]\">\n",
    "            <button class=\"accordion-button collapsed\" type=\"button\" data-bs-toggle=\"collapse\" data-bs-target=\"#flush-collapse[NUM]\" aria-expanded=\"false\" aria-controls=\"flush-collapse[NUM]\">\n",
    "            [TITLE]\n",
    "            </button>\n",
    "        </h3>\n",
    "        <div id=\"flush-collapse[NUM]\" class=\"accordion-collapse collapse\" aria-labelledby=\"flush-heading[NUM]\" data-bs-parent=\"#accordionFlushExample\">\n",
    "            <div class=\"accordion-body\">\n",
    "            [BODY]\n",
    "            </div>\n",
    "        </div>\n",
    "    </li>\n",
    "    \"\"\"\n",
    "    out = pattern.replace(\"[NUM]\", num2words[serial_num])\n",
    "    out = out.replace(\"[DATES]\", dates)\n",
    "    out = out.replace(\"[TITLE]\", title)\n",
    "    out = out.replace(\"[BODY]\", body).replace(\"desc\", \"\")\n",
    "    # for line in out.split('\\n'):\n",
    "    #     print(line)\n",
    "    \n",
    "    return out"
   ]
  },
  {
   "cell_type": "code",
   "execution_count": 24,
   "metadata": {},
   "outputs": [],
   "source": [
    "from  lxml import html, etree\n",
    "import pyperclip\n",
    "\n",
    "s = fix_accordion_item(10, dates=\"Oct 2016 - June 2018\", \n",
    "                            title=\"Product Manager | IDF Intelligence\", \n",
    "                            body=\"\"\"\n",
    "                            <p class=\"\">Co-led a task-based project management web application that allows individuals and teams to collaborate on written projects, managing the roadmap, surveying user pain points, producing technical documentation for features, and extending outreach</p>\n",
    "                            <p class=\"\">Led a pipeline makeover that allowed cross-workspace delegation of tasks, smart notifications, and downstream task tracking</p>\n",
    "                            <p class=\"\">Expanded active user base by 30%, making it among the most-used software products in the IDF Intelligence to-date</p>\n",
    "                            <p class=\"\">Led a complete UX makeover for a different knowledge management software which enhanced its accessibility dramatically</p>\n",
    "                            \"\"\")\n",
    "root = html.fromstring(s) #convert the generated HTML to a string\n",
    "new = etree.tostring(root, encoding='unicode', pretty_print=True)\n",
    "pyperclip.copy(new)\n"
   ]
  },
  {
   "cell_type": "code",
   "execution_count": null,
   "metadata": {},
   "outputs": [],
   "source": []
  },
  {
   "cell_type": "code",
   "execution_count": 8,
   "metadata": {},
   "outputs": [
    {
     "data": {
      "text/plain": [
       "'<html>\\n <body>\\n  <li class=\"timeline-item accordion-item\">\\n   <div class=\"timeline-info\">\\n    <span>\\n     [DATES]\\n    </span>\\n   </div>\\n   <div class=\"timeline-marker\">\\n   </div>\\n   <h3 class=\"timeline-title accordion-header\" id=\"flush-heading[NUM]\">\\n    <button aria-controls=\"flush-collapse[NUM]\" aria-expanded=\"false\" class=\"accordion-button collapsed\" data-bs-target=\"#flush-collapse[NUM]\" data-bs-toggle=\"collapse\" type=\"button\">\\n     [TITLE]\\n    </button>\\n    <div aria-labelledby=\"flush-heading[NUM]\" class=\"accordion-collapse collapse\" data-bs-parent=\"#accordionFlushExample\" id=\"flush-collapse[NUM]\">\\n     <div class=\"accordion-body\">\\n      <p class=\"\">\\n       <strong>\\n        senior-scramble.com\\n       </strong>\\n      </p>\\n      <p class=\"\">\\n       Coded &amp; deployed a web app that helped Columbia seniors \"shoot their shot\" using AI recommendations and advanced search.\\n      </p>\\n      <p class=\"\">\\n       1300+ registered and 600+ daily active users. A team of 5.\\n      </p>\\n      <p class=\"\">\\n       <strong>\\n        Stack:\\n       </strong>\\n       Python, Flask, Neo4j AuraDB, HTML, CSS, JS, AWS S3, Heroku\\n      </p>\\n     </div>\\n    </div>\\n   </h3>\\n  </li>\\n </body>\\n</html>'"
      ]
     },
     "execution_count": 8,
     "metadata": {},
     "output_type": "execute_result"
    }
   ],
   "source": [
    "prettyHTML"
   ]
  },
  {
   "cell_type": "code",
   "execution_count": null,
   "metadata": {},
   "outputs": [],
   "source": []
  }
 ],
 "metadata": {
  "kernelspec": {
   "display_name": "Python 3.8.12 ('scramble')",
   "language": "python",
   "name": "python3"
  },
  "language_info": {
   "codemirror_mode": {
    "name": "ipython",
    "version": 3
   },
   "file_extension": ".py",
   "mimetype": "text/x-python",
   "name": "python",
   "nbconvert_exporter": "python",
   "pygments_lexer": "ipython3",
   "version": "3.8.12"
  },
  "orig_nbformat": 4,
  "vscode": {
   "interpreter": {
    "hash": "b7735c6df63c78435bdcf3bc5659ddfb7138333f207c78cd325f39a97dd6a8d9"
   }
  }
 },
 "nbformat": 4,
 "nbformat_minor": 2
}
